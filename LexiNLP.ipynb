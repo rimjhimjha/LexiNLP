{
 "cells": [
  {
   "cell_type": "code",
   "execution_count": 1,
   "id": "a625b942",
   "metadata": {},
   "outputs": [],
   "source": [
    "import nltk"
   ]
  },
  {
   "cell_type": "code",
   "execution_count": 2,
   "id": "6b28d06b",
   "metadata": {},
   "outputs": [],
   "source": [
    "import os #provides functionalities for operating system\n",
    "import nltk.corpus  #corpus= body of text"
   ]
  },
  {
   "cell_type": "code",
   "execution_count": 3,
   "id": "610d1113",
   "metadata": {},
   "outputs": [
    {
     "data": {
      "text/plain": [
       "str"
      ]
     },
     "execution_count": 3,
     "metadata": {},
     "output_type": "execute_result"
    }
   ],
   "source": [
    "x=\"Hello Rimjhim , How are you? , Where have you been all these days?\"\n",
    "type(x)  #type of the data is given"
   ]
  },
  {
   "cell_type": "code",
   "execution_count": 4,
   "id": "0271d8cd",
   "metadata": {},
   "outputs": [
    {
     "name": "stdout",
     "output_type": "stream",
     "text": [
      "['Hello', 'Rimjhim', ',', 'How', 'are', 'you', '?', ',', 'Where', 'have', 'you', 'been', 'all', 'these', 'days', '?']\n",
      "['Hello Rimjhim , How are you?', ', Where have you been all these days?']\n"
     ]
    }
   ],
   "source": [
    "from nltk.tokenize import word_tokenize, sent_tokenize\n",
    "z=word_tokenize(x)   #divides into individual words from corpus\n",
    "y= sent_tokenize(x)  #dividea into sentences from corpus\n",
    "print(z)\n",
    "print(y)"
   ]
  },
  {
   "cell_type": "code",
   "execution_count": 5,
   "id": "0dda2163",
   "metadata": {},
   "outputs": [
    {
     "data": {
      "text/plain": [
       "['Natural',\n",
       " 'Language',\n",
       " 'Processing',\n",
       " 'is',\n",
       " 'somthing',\n",
       " 'I',\n",
       " 'got',\n",
       " 'interest',\n",
       " 'in',\n",
       " 'when',\n",
       " 'I',\n",
       " 'studied',\n",
       " 'Computational',\n",
       " 'lingustics',\n",
       " '.']"
      ]
     },
     "execution_count": 5,
     "metadata": {},
     "output_type": "execute_result"
    }
   ],
   "source": [
    "s=\"Natural Language Processing is somthing I got interest in when I studied Computational lingustics.\"\n",
    "tokens= nltk.word_tokenize(s)\n",
    "tokens\n"
   ]
  },
  {
   "cell_type": "code",
   "execution_count": 6,
   "id": "4a1f520e",
   "metadata": {},
   "outputs": [
    {
     "name": "stdout",
     "output_type": "stream",
     "text": [
      "['cmudict', 'cmudict.zip', 'gazetteers', 'gazetteers.zip', 'genesis', 'genesis.zip', 'gutenberg', 'gutenberg.zip', 'inaugural', 'inaugural.zip', 'movie_reviews', 'movie_reviews.zip', 'names', 'names.zip', 'omw-1.4.zip', 'omw.zip', 'shakespeare', 'shakespeare.zip', 'state_union', 'state_union.zip', 'stopwords', 'stopwords.zip', 'treebank', 'treebank.zip', 'twitter_samples', 'twitter_samples.zip', 'wordnet.zip', 'wordnet2021.zip', 'wordnet31.zip', 'wordnet_ic', 'wordnet_ic.zip', 'words', 'words.zip']\n"
     ]
    }
   ],
   "source": [
    "#corpora is provided by nltk library\n",
    "\n",
    "print(os.listdir(nltk.data.find('corpora')))  #the aim is to get to know about its functionalities"
   ]
  },
  {
   "cell_type": "code",
   "execution_count": 7,
   "id": "d1983dff",
   "metadata": {},
   "outputs": [
    {
     "data": {
      "text/plain": [
       "['In', 'the', 'beginning', 'God', 'created', 'the', ...]"
      ]
     },
     "execution_count": 7,
     "metadata": {},
     "output_type": "execute_result"
    }
   ],
   "source": [
    "from nltk.corpus import genesis\n",
    "genesis.words()   #words available in corpus"
   ]
  },
  {
   "cell_type": "code",
   "execution_count": null,
   "id": "b5ade278",
   "metadata": {},
   "outputs": [],
   "source": []
  },
  {
   "cell_type": "code",
   "execution_count": 8,
   "id": "d746f61d",
   "metadata": {},
   "outputs": [
    {
     "data": {
      "text/plain": [
       "['austen-emma.txt',\n",
       " 'austen-persuasion.txt',\n",
       " 'austen-sense.txt',\n",
       " 'bible-kjv.txt',\n",
       " 'blake-poems.txt',\n",
       " 'bryant-stories.txt',\n",
       " 'burgess-busterbrown.txt',\n",
       " 'carroll-alice.txt',\n",
       " 'chesterton-ball.txt',\n",
       " 'chesterton-brown.txt',\n",
       " 'chesterton-thursday.txt',\n",
       " 'edgeworth-parents.txt',\n",
       " 'melville-moby_dick.txt',\n",
       " 'milton-paradise.txt',\n",
       " 'shakespeare-caesar.txt',\n",
       " 'shakespeare-hamlet.txt',\n",
       " 'shakespeare-macbeth.txt',\n",
       " 'whitman-leaves.txt']"
      ]
     },
     "execution_count": 8,
     "metadata": {},
     "output_type": "execute_result"
    }
   ],
   "source": [
    "nltk.corpus.gutenberg.fileids()   #gives us different files that are available in this particular gutenberg"
   ]
  },
  {
   "cell_type": "code",
   "execution_count": 9,
   "id": "f888dee1",
   "metadata": {},
   "outputs": [
    {
     "data": {
      "text/plain": [
       "['[', 'The', 'King', 'James', 'Bible', ']', 'The', ...]"
      ]
     },
     "execution_count": 9,
     "metadata": {},
     "output_type": "execute_result"
    }
   ],
   "source": [
    "#open a file\n",
    "\n",
    "bible= nltk.corpus.gutenberg.words('bible-kjv.txt')\n",
    "bible"
   ]
  },
  {
   "cell_type": "code",
   "execution_count": 10,
   "id": "6b068008",
   "metadata": {},
   "outputs": [
    {
     "name": "stdout",
     "output_type": "stream",
     "text": [
      "[ The King James Bible ] The Old Testament of the King James Bible The First Book of Moses : Called Genesis 1 : 1 In the beginning God created the heaven and the earth . 1 : 2 And the earth was without form , and void ; and "
     ]
    }
   ],
   "source": [
    "# printing first 50 words in the file \n",
    "\n",
    "for words in bible[:50]:\n",
    "    print(words, sep=' ', end=' ')"
   ]
  },
  {
   "cell_type": "code",
   "execution_count": 11,
   "id": "4df428d0",
   "metadata": {},
   "outputs": [],
   "source": [
    "data = \"\"\"\n",
    "Computational linguistics is an interdisciplinary field concerned with the computational modelling of natural language,\n",
    "as well as the study of appropriate computational approaches to linguistic questions. In general, computational linguistics\n",
    "draws upon linguistics, computer science, artificial intelligence, mathematics, logic, philosophy, cognitive science,\n",
    "cognitive psychology, psycholinguistics, anthropology and neuroscience, among others.\n",
    "\"\"\"\n"
   ]
  },
  {
   "cell_type": "code",
   "execution_count": 12,
   "id": "4b748683",
   "metadata": {},
   "outputs": [
    {
     "data": {
      "text/plain": [
       "str"
      ]
     },
     "execution_count": 12,
     "metadata": {},
     "output_type": "execute_result"
    }
   ],
   "source": [
    "type(data)"
   ]
  },
  {
   "cell_type": "code",
   "execution_count": 13,
   "id": "93275f11",
   "metadata": {},
   "outputs": [
    {
     "data": {
      "text/plain": [
       "['Computational',\n",
       " 'linguistics',\n",
       " 'is',\n",
       " 'an',\n",
       " 'interdisciplinary',\n",
       " 'field',\n",
       " 'concerned',\n",
       " 'with',\n",
       " 'the',\n",
       " 'computational',\n",
       " 'modelling',\n",
       " 'of',\n",
       " 'natural',\n",
       " 'language',\n",
       " ',',\n",
       " 'as',\n",
       " 'well',\n",
       " 'as',\n",
       " 'the',\n",
       " 'study',\n",
       " 'of',\n",
       " 'appropriate',\n",
       " 'computational',\n",
       " 'approaches',\n",
       " 'to',\n",
       " 'linguistic',\n",
       " 'questions',\n",
       " '.',\n",
       " 'In',\n",
       " 'general',\n",
       " ',',\n",
       " 'computational',\n",
       " 'linguistics',\n",
       " 'draws',\n",
       " 'upon',\n",
       " 'linguistics',\n",
       " ',',\n",
       " 'computer',\n",
       " 'science',\n",
       " ',',\n",
       " 'artificial',\n",
       " 'intelligence',\n",
       " ',',\n",
       " 'mathematics',\n",
       " ',',\n",
       " 'logic',\n",
       " ',',\n",
       " 'philosophy',\n",
       " ',',\n",
       " 'cognitive',\n",
       " 'science',\n",
       " ',',\n",
       " 'cognitive',\n",
       " 'psychology',\n",
       " ',',\n",
       " 'psycholinguistics',\n",
       " ',',\n",
       " 'anthropology',\n",
       " 'and',\n",
       " 'neuroscience',\n",
       " ',',\n",
       " 'among',\n",
       " 'others',\n",
       " '.']"
      ]
     },
     "execution_count": 13,
     "metadata": {},
     "output_type": "execute_result"
    }
   ],
   "source": [
    "#already imported wordtokenize above\n",
    "data_tokens= word_tokenize(data)\n",
    "data_tokens"
   ]
  },
  {
   "cell_type": "code",
   "execution_count": 14,
   "id": "bfd5f1d8",
   "metadata": {},
   "outputs": [
    {
     "data": {
      "text/plain": [
       "449"
      ]
     },
     "execution_count": 14,
     "metadata": {},
     "output_type": "execute_result"
    }
   ],
   "source": [
    "len(data) #length of data"
   ]
  },
  {
   "cell_type": "code",
   "execution_count": 15,
   "id": "da27bd2c",
   "metadata": {},
   "outputs": [
    {
     "data": {
      "text/plain": [
       "FreqDist({' ': 46, 'i': 45, 'o': 32, 'n': 32, 't': 31, 'a': 29, 'e': 29, 'c': 28, 's': 26, 'l': 25, ...})"
      ]
     },
     "execution_count": 15,
     "metadata": {},
     "output_type": "execute_result"
    }
   ],
   "source": [
    "#frequency of a word using frequency distribution function\n",
    "\n",
    "from nltk.probability import FreqDist\n",
    "fdist= FreqDist()\n",
    "\n",
    "for words in data:\n",
    "    fdist[words.lower()]+=1\n",
    "fdist"
   ]
  },
  {
   "cell_type": "code",
   "execution_count": 16,
   "id": "17be8493",
   "metadata": {},
   "outputs": [
    {
     "data": {
      "text/plain": [
       "28"
      ]
     },
     "execution_count": 16,
     "metadata": {},
     "output_type": "execute_result"
    }
   ],
   "source": [
    "fdist['c']"
   ]
  },
  {
   "cell_type": "code",
   "execution_count": 17,
   "id": "f9fc2179",
   "metadata": {},
   "outputs": [
    {
     "data": {
      "text/plain": [
       "25"
      ]
     },
     "execution_count": 17,
     "metadata": {},
     "output_type": "execute_result"
    }
   ],
   "source": [
    "len(fdist)"
   ]
  },
  {
   "cell_type": "code",
   "execution_count": 18,
   "id": "e25641f1",
   "metadata": {},
   "outputs": [
    {
     "data": {
      "text/plain": [
       "[(' ', 46), ('i', 45), ('o', 32), ('n', 32), ('t', 31)]"
      ]
     },
     "execution_count": 18,
     "metadata": {},
     "output_type": "execute_result"
    }
   ],
   "source": [
    "#selecting top 5 tokens with highest frequency\n",
    "\n",
    "top5= fdist.most_common(5)\n",
    "top5"
   ]
  },
  {
   "cell_type": "code",
   "execution_count": 19,
   "id": "71b0d33a",
   "metadata": {},
   "outputs": [],
   "source": [
    "#types of tokenizers\n",
    "\n",
    "from nltk.tokenize import blankline_tokenize\n",
    "blank=blankline_tokenize(data)"
   ]
  },
  {
   "cell_type": "code",
   "execution_count": 20,
   "id": "62d05730",
   "metadata": {},
   "outputs": [
    {
     "data": {
      "text/plain": [
       "['\\nComputational linguistics is an interdisciplinary field concerned with the computational modelling of natural language,\\nas well as the study of appropriate computational approaches to linguistic questions. In general, computational linguistics\\ndraws upon linguistics, computer science, artificial intelligence, mathematics, logic, philosophy, cognitive science,\\ncognitive psychology, psycholinguistics, anthropology and neuroscience, among others.\\n']"
      ]
     },
     "execution_count": 20,
     "metadata": {},
     "output_type": "execute_result"
    }
   ],
   "source": [
    "blank"
   ]
  },
  {
   "cell_type": "code",
   "execution_count": 21,
   "id": "d25c64d7",
   "metadata": {},
   "outputs": [
    {
     "data": {
      "text/plain": [
       "1"
      ]
     },
     "execution_count": 21,
     "metadata": {},
     "output_type": "execute_result"
    }
   ],
   "source": [
    "len(blank)"
   ]
  },
  {
   "cell_type": "code",
   "execution_count": 22,
   "id": "965e7300",
   "metadata": {},
   "outputs": [
    {
     "data": {
      "text/plain": [
       "'\\nComputational linguistics is an interdisciplinary field concerned with the computational modelling of natural language,\\nas well as the study of appropriate computational approaches to linguistic questions. In general, computational linguistics\\ndraws upon linguistics, computer science, artificial intelligence, mathematics, logic, philosophy, cognitive science,\\ncognitive psychology, psycholinguistics, anthropology and neuroscience, among others.\\n'"
      ]
     },
     "execution_count": 22,
     "metadata": {},
     "output_type": "execute_result"
    }
   ],
   "source": [
    "blank[0]"
   ]
  },
  {
   "cell_type": "code",
   "execution_count": 23,
   "id": "bfe75869",
   "metadata": {
    "scrolled": true
   },
   "outputs": [
    {
     "data": {
      "text/plain": [
       "[('Computational', 'linguistics', 'is', 'an'),\n",
       " ('linguistics', 'is', 'an', 'interdisciplinary'),\n",
       " ('is', 'an', 'interdisciplinary', 'field'),\n",
       " ('an', 'interdisciplinary', 'field', 'concerned'),\n",
       " ('interdisciplinary', 'field', 'concerned', 'with'),\n",
       " ('field', 'concerned', 'with', 'the'),\n",
       " ('concerned', 'with', 'the', 'computational'),\n",
       " ('with', 'the', 'computational', 'modelling'),\n",
       " ('the', 'computational', 'modelling', 'of'),\n",
       " ('computational', 'modelling', 'of', 'natural'),\n",
       " ('modelling', 'of', 'natural', 'language'),\n",
       " ('of', 'natural', 'language', ','),\n",
       " ('natural', 'language', ',', 'as'),\n",
       " ('language', ',', 'as', 'well'),\n",
       " (',', 'as', 'well', 'as'),\n",
       " ('as', 'well', 'as', 'the'),\n",
       " ('well', 'as', 'the', 'study'),\n",
       " ('as', 'the', 'study', 'of'),\n",
       " ('the', 'study', 'of', 'appropriate'),\n",
       " ('study', 'of', 'appropriate', 'computational'),\n",
       " ('of', 'appropriate', 'computational', 'approaches'),\n",
       " ('appropriate', 'computational', 'approaches', 'to'),\n",
       " ('computational', 'approaches', 'to', 'linguistic'),\n",
       " ('approaches', 'to', 'linguistic', 'questions'),\n",
       " ('to', 'linguistic', 'questions', '.'),\n",
       " ('linguistic', 'questions', '.', 'In'),\n",
       " ('questions', '.', 'In', 'general'),\n",
       " ('.', 'In', 'general', ','),\n",
       " ('In', 'general', ',', 'computational'),\n",
       " ('general', ',', 'computational', 'linguistics'),\n",
       " (',', 'computational', 'linguistics', 'draws'),\n",
       " ('computational', 'linguistics', 'draws', 'upon'),\n",
       " ('linguistics', 'draws', 'upon', 'linguistics'),\n",
       " ('draws', 'upon', 'linguistics', ','),\n",
       " ('upon', 'linguistics', ',', 'computer'),\n",
       " ('linguistics', ',', 'computer', 'science'),\n",
       " (',', 'computer', 'science', ','),\n",
       " ('computer', 'science', ',', 'artificial'),\n",
       " ('science', ',', 'artificial', 'intelligence'),\n",
       " (',', 'artificial', 'intelligence', ','),\n",
       " ('artificial', 'intelligence', ',', 'mathematics'),\n",
       " ('intelligence', ',', 'mathematics', ','),\n",
       " (',', 'mathematics', ',', 'logic'),\n",
       " ('mathematics', ',', 'logic', ','),\n",
       " (',', 'logic', ',', 'philosophy'),\n",
       " ('logic', ',', 'philosophy', ','),\n",
       " (',', 'philosophy', ',', 'cognitive'),\n",
       " ('philosophy', ',', 'cognitive', 'science'),\n",
       " (',', 'cognitive', 'science', ','),\n",
       " ('cognitive', 'science', ',', 'cognitive'),\n",
       " ('science', ',', 'cognitive', 'psychology'),\n",
       " (',', 'cognitive', 'psychology', ','),\n",
       " ('cognitive', 'psychology', ',', 'psycholinguistics'),\n",
       " ('psychology', ',', 'psycholinguistics', ','),\n",
       " (',', 'psycholinguistics', ',', 'anthropology'),\n",
       " ('psycholinguistics', ',', 'anthropology', 'and'),\n",
       " (',', 'anthropology', 'and', 'neuroscience'),\n",
       " ('anthropology', 'and', 'neuroscience', ','),\n",
       " ('and', 'neuroscience', ',', 'among'),\n",
       " ('neuroscience', ',', 'among', 'others'),\n",
       " (',', 'among', 'others', '.')]"
      ]
     },
     "execution_count": 23,
     "metadata": {},
     "output_type": "execute_result"
    }
   ],
   "source": [
    "from nltk.util import bigrams, trigrams, ngrams\n",
    "bigrams= list(nltk.bigrams(data_tokens))\n",
    "bigrams\n",
    "trigrams= list(nltk.trigrams(data_tokens))\n",
    "trigrams\n",
    "ngrams= list(nltk.ngrams(data_tokens,4))\n",
    "ngrams"
   ]
  },
  {
   "cell_type": "code",
   "execution_count": 24,
   "id": "281e0ac5",
   "metadata": {},
   "outputs": [
    {
     "data": {
      "text/plain": [
       "[('Computational', 'linguistics'),\n",
       " ('linguistics', 'is'),\n",
       " ('is', 'an'),\n",
       " ('an', 'interdisciplinary'),\n",
       " ('interdisciplinary', 'field'),\n",
       " ('field', 'concerned'),\n",
       " ('concerned', 'with'),\n",
       " ('with', 'the'),\n",
       " ('the', 'computational'),\n",
       " ('computational', 'modelling'),\n",
       " ('modelling', 'of'),\n",
       " ('of', 'natural'),\n",
       " ('natural', 'language'),\n",
       " ('language', ','),\n",
       " (',', 'as'),\n",
       " ('as', 'well'),\n",
       " ('well', 'as'),\n",
       " ('as', 'the'),\n",
       " ('the', 'study'),\n",
       " ('study', 'of'),\n",
       " ('of', 'appropriate'),\n",
       " ('appropriate', 'computational'),\n",
       " ('computational', 'approaches'),\n",
       " ('approaches', 'to'),\n",
       " ('to', 'linguistic'),\n",
       " ('linguistic', 'questions'),\n",
       " ('questions', '.'),\n",
       " ('.', 'In'),\n",
       " ('In', 'general'),\n",
       " ('general', ','),\n",
       " (',', 'computational'),\n",
       " ('computational', 'linguistics'),\n",
       " ('linguistics', 'draws'),\n",
       " ('draws', 'upon'),\n",
       " ('upon', 'linguistics'),\n",
       " ('linguistics', ','),\n",
       " (',', 'computer'),\n",
       " ('computer', 'science'),\n",
       " ('science', ','),\n",
       " (',', 'artificial'),\n",
       " ('artificial', 'intelligence'),\n",
       " ('intelligence', ','),\n",
       " (',', 'mathematics'),\n",
       " ('mathematics', ','),\n",
       " (',', 'logic'),\n",
       " ('logic', ','),\n",
       " (',', 'philosophy'),\n",
       " ('philosophy', ','),\n",
       " (',', 'cognitive'),\n",
       " ('cognitive', 'science'),\n",
       " ('science', ','),\n",
       " (',', 'cognitive'),\n",
       " ('cognitive', 'psychology'),\n",
       " ('psychology', ','),\n",
       " (',', 'psycholinguistics'),\n",
       " ('psycholinguistics', ','),\n",
       " (',', 'anthropology'),\n",
       " ('anthropology', 'and'),\n",
       " ('and', 'neuroscience'),\n",
       " ('neuroscience', ','),\n",
       " (',', 'among'),\n",
       " ('among', 'others'),\n",
       " ('others', '.')]"
      ]
     },
     "execution_count": 24,
     "metadata": {},
     "output_type": "execute_result"
    }
   ],
   "source": [
    "bigrams= list(nltk.bigrams(data_tokens))   \n",
    "bigrams   #grouping 2 tokens"
   ]
  },
  {
   "cell_type": "code",
   "execution_count": 25,
   "id": "c2c632e0",
   "metadata": {},
   "outputs": [
    {
     "data": {
      "text/plain": [
       "[('Computational', 'linguistics', 'is'),\n",
       " ('linguistics', 'is', 'an'),\n",
       " ('is', 'an', 'interdisciplinary'),\n",
       " ('an', 'interdisciplinary', 'field'),\n",
       " ('interdisciplinary', 'field', 'concerned'),\n",
       " ('field', 'concerned', 'with'),\n",
       " ('concerned', 'with', 'the'),\n",
       " ('with', 'the', 'computational'),\n",
       " ('the', 'computational', 'modelling'),\n",
       " ('computational', 'modelling', 'of'),\n",
       " ('modelling', 'of', 'natural'),\n",
       " ('of', 'natural', 'language'),\n",
       " ('natural', 'language', ','),\n",
       " ('language', ',', 'as'),\n",
       " (',', 'as', 'well'),\n",
       " ('as', 'well', 'as'),\n",
       " ('well', 'as', 'the'),\n",
       " ('as', 'the', 'study'),\n",
       " ('the', 'study', 'of'),\n",
       " ('study', 'of', 'appropriate'),\n",
       " ('of', 'appropriate', 'computational'),\n",
       " ('appropriate', 'computational', 'approaches'),\n",
       " ('computational', 'approaches', 'to'),\n",
       " ('approaches', 'to', 'linguistic'),\n",
       " ('to', 'linguistic', 'questions'),\n",
       " ('linguistic', 'questions', '.'),\n",
       " ('questions', '.', 'In'),\n",
       " ('.', 'In', 'general'),\n",
       " ('In', 'general', ','),\n",
       " ('general', ',', 'computational'),\n",
       " (',', 'computational', 'linguistics'),\n",
       " ('computational', 'linguistics', 'draws'),\n",
       " ('linguistics', 'draws', 'upon'),\n",
       " ('draws', 'upon', 'linguistics'),\n",
       " ('upon', 'linguistics', ','),\n",
       " ('linguistics', ',', 'computer'),\n",
       " (',', 'computer', 'science'),\n",
       " ('computer', 'science', ','),\n",
       " ('science', ',', 'artificial'),\n",
       " (',', 'artificial', 'intelligence'),\n",
       " ('artificial', 'intelligence', ','),\n",
       " ('intelligence', ',', 'mathematics'),\n",
       " (',', 'mathematics', ','),\n",
       " ('mathematics', ',', 'logic'),\n",
       " (',', 'logic', ','),\n",
       " ('logic', ',', 'philosophy'),\n",
       " (',', 'philosophy', ','),\n",
       " ('philosophy', ',', 'cognitive'),\n",
       " (',', 'cognitive', 'science'),\n",
       " ('cognitive', 'science', ','),\n",
       " ('science', ',', 'cognitive'),\n",
       " (',', 'cognitive', 'psychology'),\n",
       " ('cognitive', 'psychology', ','),\n",
       " ('psychology', ',', 'psycholinguistics'),\n",
       " (',', 'psycholinguistics', ','),\n",
       " ('psycholinguistics', ',', 'anthropology'),\n",
       " (',', 'anthropology', 'and'),\n",
       " ('anthropology', 'and', 'neuroscience'),\n",
       " ('and', 'neuroscience', ','),\n",
       " ('neuroscience', ',', 'among'),\n",
       " (',', 'among', 'others'),\n",
       " ('among', 'others', '.')]"
      ]
     },
     "execution_count": 25,
     "metadata": {},
     "output_type": "execute_result"
    }
   ],
   "source": [
    "trigrams= list(nltk.trigrams(data_tokens)) #grouping 3 tokens\n",
    "trigrams"
   ]
  },
  {
   "cell_type": "code",
   "execution_count": 26,
   "id": "54222f9a",
   "metadata": {},
   "outputs": [
    {
     "data": {
      "text/plain": [
       "[('Computational', 'linguistics', 'is', 'an'),\n",
       " ('linguistics', 'is', 'an', 'interdisciplinary'),\n",
       " ('is', 'an', 'interdisciplinary', 'field'),\n",
       " ('an', 'interdisciplinary', 'field', 'concerned'),\n",
       " ('interdisciplinary', 'field', 'concerned', 'with'),\n",
       " ('field', 'concerned', 'with', 'the'),\n",
       " ('concerned', 'with', 'the', 'computational'),\n",
       " ('with', 'the', 'computational', 'modelling'),\n",
       " ('the', 'computational', 'modelling', 'of'),\n",
       " ('computational', 'modelling', 'of', 'natural'),\n",
       " ('modelling', 'of', 'natural', 'language'),\n",
       " ('of', 'natural', 'language', ','),\n",
       " ('natural', 'language', ',', 'as'),\n",
       " ('language', ',', 'as', 'well'),\n",
       " (',', 'as', 'well', 'as'),\n",
       " ('as', 'well', 'as', 'the'),\n",
       " ('well', 'as', 'the', 'study'),\n",
       " ('as', 'the', 'study', 'of'),\n",
       " ('the', 'study', 'of', 'appropriate'),\n",
       " ('study', 'of', 'appropriate', 'computational'),\n",
       " ('of', 'appropriate', 'computational', 'approaches'),\n",
       " ('appropriate', 'computational', 'approaches', 'to'),\n",
       " ('computational', 'approaches', 'to', 'linguistic'),\n",
       " ('approaches', 'to', 'linguistic', 'questions'),\n",
       " ('to', 'linguistic', 'questions', '.'),\n",
       " ('linguistic', 'questions', '.', 'In'),\n",
       " ('questions', '.', 'In', 'general'),\n",
       " ('.', 'In', 'general', ','),\n",
       " ('In', 'general', ',', 'computational'),\n",
       " ('general', ',', 'computational', 'linguistics'),\n",
       " (',', 'computational', 'linguistics', 'draws'),\n",
       " ('computational', 'linguistics', 'draws', 'upon'),\n",
       " ('linguistics', 'draws', 'upon', 'linguistics'),\n",
       " ('draws', 'upon', 'linguistics', ','),\n",
       " ('upon', 'linguistics', ',', 'computer'),\n",
       " ('linguistics', ',', 'computer', 'science'),\n",
       " (',', 'computer', 'science', ','),\n",
       " ('computer', 'science', ',', 'artificial'),\n",
       " ('science', ',', 'artificial', 'intelligence'),\n",
       " (',', 'artificial', 'intelligence', ','),\n",
       " ('artificial', 'intelligence', ',', 'mathematics'),\n",
       " ('intelligence', ',', 'mathematics', ','),\n",
       " (',', 'mathematics', ',', 'logic'),\n",
       " ('mathematics', ',', 'logic', ','),\n",
       " (',', 'logic', ',', 'philosophy'),\n",
       " ('logic', ',', 'philosophy', ','),\n",
       " (',', 'philosophy', ',', 'cognitive'),\n",
       " ('philosophy', ',', 'cognitive', 'science'),\n",
       " (',', 'cognitive', 'science', ','),\n",
       " ('cognitive', 'science', ',', 'cognitive'),\n",
       " ('science', ',', 'cognitive', 'psychology'),\n",
       " (',', 'cognitive', 'psychology', ','),\n",
       " ('cognitive', 'psychology', ',', 'psycholinguistics'),\n",
       " ('psychology', ',', 'psycholinguistics', ','),\n",
       " (',', 'psycholinguistics', ',', 'anthropology'),\n",
       " ('psycholinguistics', ',', 'anthropology', 'and'),\n",
       " (',', 'anthropology', 'and', 'neuroscience'),\n",
       " ('anthropology', 'and', 'neuroscience', ','),\n",
       " ('and', 'neuroscience', ',', 'among'),\n",
       " ('neuroscience', ',', 'among', 'others'),\n",
       " (',', 'among', 'others', '.')]"
      ]
     },
     "execution_count": 26,
     "metadata": {},
     "output_type": "execute_result"
    }
   ],
   "source": [
    "ngrams= list(nltk.ngrams(data_tokens,4))    #grouping n tokens\n",
    "ngrams"
   ]
  },
  {
   "cell_type": "code",
   "execution_count": 27,
   "id": "fef7c79f",
   "metadata": {},
   "outputs": [
    {
     "name": "stdout",
     "output_type": "stream",
     "text": [
      "{'did', 'doing', 'ours', 'once', 'any', \"hasn't\", 'were', 'too', 'with', 'in', 'i', 'a', 'no', 'his', 'ain', 'have', 'll', 'between', 'we', 'most', 'm', 'but', 'should', \"hadn't\", \"she's\", 'just', 'me', 'hasn', 'haven', 'very', \"mustn't\", \"you'd\", 've', 'other', 'against', \"weren't\", 'our', 'out', 't', 'until', 'such', 're', 'while', 'more', \"should've\", 'y', 'that', 'through', 'her', 'couldn', 'do', \"needn't\", 'further', 'into', 'above', \"you're\", 'didn', 'shan', 'theirs', 'him', \"it's\", 'now', 'before', 'you', 'yourself', 'because', 'wasn', 'not', 'some', 'where', 'is', 'why', 'only', 'hers', 'mustn', \"shouldn't\", 'both', 'so', 'these', 'down', 'mightn', 'here', 'this', 'will', 'few', 'off', \"shan't\", 'has', 'yours', \"couldn't\", 'my', 'herself', 'them', 'isn', 'am', \"mightn't\", \"won't\", \"wouldn't\", 'won', 'your', 'up', 'they', 'over', 'for', 'its', 'ma', 'are', 'when', 'and', 'don', 'was', 'all', \"aren't\", 'what', \"haven't\", 'about', 'after', 'weren', 'he', 'nor', 'd', 'at', 'been', 'yourselves', 'who', 'be', 'wouldn', 'if', \"that'll\", 'whom', 'from', 'doesn', \"you've\", 'of', 'can', 'then', 'how', 'having', 'there', \"doesn't\", 'had', 'which', \"didn't\", 'she', 'does', \"don't\", \"you'll\", 'again', 'myself', 'under', 'hadn', 'those', \"wasn't\", 'or', 'itself', 'each', 'than', 'being', 'aren', 'to', 'themselves', 'needn', 'himself', 'shouldn', 'same', 'it', 'below', 'o', 'by', 'ourselves', 'on', 'own', 'their', \"isn't\", 'an', 'during', 'the', 'as', 's'}\n"
     ]
    }
   ],
   "source": [
    "#stop words- used to reduce the effort to identify the meaning of text\n",
    "\n",
    "from nltk.corpus import stopwords\n",
    "stop_words= set(stopwords.words(\"english\"))\n",
    "print(stop_words)"
   ]
  },
  {
   "cell_type": "code",
   "execution_count": 28,
   "id": "080793d2",
   "metadata": {},
   "outputs": [
    {
     "name": "stdout",
     "output_type": "stream",
     "text": [
      "['Computational', 'linguistics', 'is', 'an', 'interdisciplinary', 'field', 'concerned', 'with', 'the', 'computational', 'modelling', 'of', 'natural', 'language', ',', 'as', 'well', 'as', 'the', 'study', 'of', 'appropriate', 'computational', 'approaches', 'to', 'linguistic', 'questions', '.', 'In', 'general', ',', 'computational', 'linguistics', 'draws', 'upon', 'linguistics', ',', 'computer', 'science', ',', 'artificial', 'intelligence', ',', 'mathematics', ',', 'logic', ',', 'philosophy', ',', 'cognitive', 'science', ',', 'cognitive', 'psychology', ',', 'psycholinguistics', ',', 'anthropology', 'and', 'neuroscience', ',', 'among', 'others', '.']\n",
      "['Computational', 'linguistics', 'interdisciplinary', 'field', 'concerned', 'computational', 'modelling', 'natural', 'language', ',', 'well', 'study', 'appropriate', 'computational', 'approaches', 'linguistic', 'questions', '.', 'In', 'general', ',', 'computational', 'linguistics', 'draws', 'upon', 'linguistics', ',', 'computer', 'science', ',', 'artificial', 'intelligence', ',', 'mathematics', ',', 'logic', ',', 'philosophy', ',', 'cognitive', 'science', ',', 'cognitive', 'psychology', ',', 'psycholinguistics', ',', 'anthropology', 'neuroscience', ',', 'among', 'others', '.']\n"
     ]
    }
   ],
   "source": [
    "print(data_tokens)\n",
    "filtered=[]\n",
    "for w in data_tokens:\n",
    "    if w not in stop_words:\n",
    "        filtered.append(w)\n",
    "        \n",
    "print(filtered)"
   ]
  },
  {
   "cell_type": "code",
   "execution_count": 29,
   "id": "c44d6b73",
   "metadata": {},
   "outputs": [
    {
     "name": "stdout",
     "output_type": "stream",
     "text": [
      "['Computational', 'linguistics', 'interdisciplinary', 'field', 'concerned', 'computational', 'modelling', 'natural', 'language', ',', 'well', 'study', 'appropriate', 'computational', 'approaches', 'linguistic', 'questions', '.', 'In', 'general', ',', 'computational', 'linguistics', 'draws', 'upon', 'linguistics', ',', 'computer', 'science', ',', 'artificial', 'intelligence', ',', 'mathematics', ',', 'logic', ',', 'philosophy', ',', 'cognitive', 'science', ',', 'cognitive', 'psychology', ',', 'psycholinguistics', ',', 'anthropology', 'neuroscience', ',', 'among', 'others', '.']\n"
     ]
    }
   ],
   "source": [
    "filtered = [w for w in data_tokens if not w in stop_words] #number of lines of code reduced.->ternanry func\n",
    "print(filtered)"
   ]
  },
  {
   "cell_type": "code",
   "execution_count": 30,
   "id": "efce727c",
   "metadata": {},
   "outputs": [
    {
     "name": "stdout",
     "output_type": "stream",
     "text": [
      "eat\n",
      "ate\n",
      "eat\n",
      "eat\n"
     ]
    }
   ],
   "source": [
    "#Stemming -> identifying the root word\n",
    "\n",
    "from nltk.stem import PorterStemmer\n",
    "ps= PorterStemmer()\n",
    "a= ['eat','ate','eating','eats']\n",
    "\n",
    "for w in a:\n",
    "    print(ps.stem(w))"
   ]
  },
  {
   "cell_type": "code",
   "execution_count": 31,
   "id": "d2081166",
   "metadata": {},
   "outputs": [
    {
     "name": "stdout",
     "output_type": "stream",
     "text": [
      "comput\n",
      "linguist\n",
      "is\n",
      "an\n",
      "interdisciplinari\n",
      "field\n",
      "concern\n",
      "with\n",
      "the\n",
      "comput\n",
      "model\n",
      "of\n",
      "natur\n",
      "languag\n",
      ",\n",
      "as\n",
      "well\n",
      "as\n",
      "the\n",
      "studi\n",
      "of\n",
      "appropri\n",
      "comput\n",
      "approach\n",
      "to\n",
      "linguist\n",
      "question\n",
      ".\n",
      "in\n",
      "gener\n",
      ",\n",
      "comput\n",
      "linguist\n",
      "draw\n",
      "upon\n",
      "linguist\n",
      ",\n",
      "comput\n",
      "scienc\n",
      ",\n",
      "artifici\n",
      "intellig\n",
      ",\n",
      "mathemat\n",
      ",\n",
      "logic\n",
      ",\n",
      "philosophi\n",
      ",\n",
      "cognit\n",
      "scienc\n",
      ",\n",
      "cognit\n",
      "psycholog\n",
      ",\n",
      "psycholinguist\n",
      ",\n",
      "anthropolog\n",
      "and\n",
      "neurosci\n",
      ",\n",
      "among\n",
      "other\n",
      ".\n"
     ]
    }
   ],
   "source": [
    "for w in data_tokens:\n",
    "    print(ps.stem(w))\n",
    "    "
   ]
  },
  {
   "cell_type": "code",
   "execution_count": 32,
   "id": "fe1b1817",
   "metadata": {},
   "outputs": [
    {
     "name": "stdout",
     "output_type": "stream",
     "text": [
      "['Computational', 'linguistics', 'is', 'an', 'interdisciplinary', 'field', 'concerned', 'with', 'the', 'computational', 'modelling', 'of', 'natural', 'language', ',', 'as', 'well', 'as', 'the', 'study', 'of', 'appropriate', 'computational', 'approaches', 'to', 'linguistic', 'questions', '.', 'In', 'general', ',', 'computational', 'linguistics', 'draws', 'upon', 'linguistics', ',', 'computer', 'science', ',', 'artificial', 'intelligence', ',', 'mathematics', ',', 'logic', ',', 'philosophy', ',', 'cognitive', 'science', ',', 'cognitive', 'psychology', ',', 'psycholinguistics', ',', 'anthropology', 'and', 'neuroscience', ',', 'among', 'others', '.']\n"
     ]
    }
   ],
   "source": [
    "from nltk.tokenize import word_tokenize\n",
    "result= word_tokenize(data)\n",
    "print(result)"
   ]
  },
  {
   "cell_type": "code",
   "execution_count": 33,
   "id": "d8cb69ec",
   "metadata": {},
   "outputs": [
    {
     "name": "stderr",
     "output_type": "stream",
     "text": [
      "[nltk_data] Downloading package averaged_perceptron_tagger to\n",
      "[nltk_data]     C:\\Users\\RIMJHIM\\AppData\\Roaming\\nltk_data...\n",
      "[nltk_data]   Package averaged_perceptron_tagger is already up-to-\n",
      "[nltk_data]       date!\n"
     ]
    },
    {
     "name": "stdout",
     "output_type": "stream",
     "text": [
      "Requirement already satisfied: spacy in c:\\users\\rimjhim\\anaconda3\\lib\\site-packages (3.7.5)\n",
      "Requirement already satisfied: cymem<2.1.0,>=2.0.2 in c:\\users\\rimjhim\\anaconda3\\lib\\site-packages (from spacy) (2.0.8)\n",
      "Requirement already satisfied: wasabi<1.2.0,>=0.9.1 in c:\\users\\rimjhim\\anaconda3\\lib\\site-packages (from spacy) (1.1.3)\n",
      "Requirement already satisfied: catalogue<2.1.0,>=2.0.6 in c:\\users\\rimjhim\\anaconda3\\lib\\site-packages (from spacy) (2.0.10)\n",
      "Requirement already satisfied: spacy-legacy<3.1.0,>=3.0.11 in c:\\users\\rimjhim\\anaconda3\\lib\\site-packages (from spacy) (3.0.12)\n",
      "Requirement already satisfied: packaging>=20.0 in c:\\users\\rimjhim\\anaconda3\\lib\\site-packages (from spacy) (22.0)\n",
      "Requirement already satisfied: tqdm<5.0.0,>=4.38.0 in c:\\users\\rimjhim\\anaconda3\\lib\\site-packages (from spacy) (4.64.1)\n",
      "Requirement already satisfied: pydantic!=1.8,!=1.8.1,<3.0.0,>=1.7.4 in c:\\users\\rimjhim\\anaconda3\\lib\\site-packages (from spacy) (2.8.2)\n",
      "Requirement already satisfied: numpy>=1.19.0 in c:\\users\\rimjhim\\anaconda3\\lib\\site-packages (from spacy) (1.23.5)\n",
      "Requirement already satisfied: jinja2 in c:\\users\\rimjhim\\anaconda3\\lib\\site-packages (from spacy) (3.1.2)\n",
      "Requirement already satisfied: setuptools in c:\\users\\rimjhim\\anaconda3\\lib\\site-packages (from spacy) (65.6.3)\n",
      "Requirement already satisfied: spacy-loggers<2.0.0,>=1.0.0 in c:\\users\\rimjhim\\anaconda3\\lib\\site-packages (from spacy) (1.0.5)\n",
      "Requirement already satisfied: requests<3.0.0,>=2.13.0 in c:\\users\\rimjhim\\anaconda3\\lib\\site-packages (from spacy) (2.28.1)\n",
      "Requirement already satisfied: langcodes<4.0.0,>=3.2.0 in c:\\users\\rimjhim\\anaconda3\\lib\\site-packages (from spacy) (3.4.0)\n",
      "Requirement already satisfied: thinc<8.3.0,>=8.2.2 in c:\\users\\rimjhim\\anaconda3\\lib\\site-packages (from spacy) (8.2.5)\n",
      "Requirement already satisfied: weasel<0.5.0,>=0.1.0 in c:\\users\\rimjhim\\anaconda3\\lib\\site-packages (from spacy) (0.4.1)\n",
      "Requirement already satisfied: typer<1.0.0,>=0.3.0 in c:\\users\\rimjhim\\anaconda3\\lib\\site-packages (from spacy) (0.12.3)\n",
      "Requirement already satisfied: murmurhash<1.1.0,>=0.28.0 in c:\\users\\rimjhim\\anaconda3\\lib\\site-packages (from spacy) (1.0.10)\n",
      "Requirement already satisfied: srsly<3.0.0,>=2.4.3 in c:\\users\\rimjhim\\anaconda3\\lib\\site-packages (from spacy) (2.4.8)\n",
      "Requirement already satisfied: preshed<3.1.0,>=3.0.2 in c:\\users\\rimjhim\\anaconda3\\lib\\site-packages (from spacy) (3.0.9)\n",
      "Requirement already satisfied: language-data>=1.2 in c:\\users\\rimjhim\\anaconda3\\lib\\site-packages (from langcodes<4.0.0,>=3.2.0->spacy) (1.2.0)\n",
      "Requirement already satisfied: annotated-types>=0.4.0 in c:\\users\\rimjhim\\anaconda3\\lib\\site-packages (from pydantic!=1.8,!=1.8.1,<3.0.0,>=1.7.4->spacy) (0.7.0)\n",
      "Requirement already satisfied: typing-extensions>=4.6.1 in c:\\users\\rimjhim\\anaconda3\\lib\\site-packages (from pydantic!=1.8,!=1.8.1,<3.0.0,>=1.7.4->spacy) (4.12.2)\n",
      "Requirement already satisfied: pydantic-core==2.20.1 in c:\\users\\rimjhim\\anaconda3\\lib\\site-packages (from pydantic!=1.8,!=1.8.1,<3.0.0,>=1.7.4->spacy) (2.20.1)\n",
      "Requirement already satisfied: charset-normalizer<3,>=2 in c:\\users\\rimjhim\\anaconda3\\lib\\site-packages (from requests<3.0.0,>=2.13.0->spacy) (2.0.4)\n",
      "Requirement already satisfied: certifi>=2017.4.17 in c:\\users\\rimjhim\\anaconda3\\lib\\site-packages (from requests<3.0.0,>=2.13.0->spacy) (2022.12.7)\n",
      "Requirement already satisfied: urllib3<1.27,>=1.21.1 in c:\\users\\rimjhim\\anaconda3\\lib\\site-packages (from requests<3.0.0,>=2.13.0->spacy) (1.26.14)\n",
      "Requirement already satisfied: idna<4,>=2.5 in c:\\users\\rimjhim\\anaconda3\\lib\\site-packages (from requests<3.0.0,>=2.13.0->spacy) (3.4)\n",
      "Requirement already satisfied: blis<0.8.0,>=0.7.8 in c:\\users\\rimjhim\\anaconda3\\lib\\site-packages (from thinc<8.3.0,>=8.2.2->spacy) (0.7.11)\n",
      "Requirement already satisfied: confection<1.0.0,>=0.0.1 in c:\\users\\rimjhim\\anaconda3\\lib\\site-packages (from thinc<8.3.0,>=8.2.2->spacy) (0.1.5)\n",
      "Requirement already satisfied: colorama in c:\\users\\rimjhim\\anaconda3\\lib\\site-packages (from tqdm<5.0.0,>=4.38.0->spacy) (0.4.6)\n",
      "Requirement already satisfied: click>=8.0.0 in c:\\users\\rimjhim\\anaconda3\\lib\\site-packages (from typer<1.0.0,>=0.3.0->spacy) (8.0.4)\n",
      "Requirement already satisfied: rich>=10.11.0 in c:\\users\\rimjhim\\anaconda3\\lib\\site-packages (from typer<1.0.0,>=0.3.0->spacy) (13.7.1)\n",
      "Requirement already satisfied: shellingham>=1.3.0 in c:\\users\\rimjhim\\anaconda3\\lib\\site-packages (from typer<1.0.0,>=0.3.0->spacy) (1.5.4)\n",
      "Requirement already satisfied: smart-open<8.0.0,>=5.2.1 in c:\\users\\rimjhim\\anaconda3\\lib\\site-packages (from weasel<0.5.0,>=0.1.0->spacy) (5.2.1)\n",
      "Requirement already satisfied: cloudpathlib<1.0.0,>=0.7.0 in c:\\users\\rimjhim\\anaconda3\\lib\\site-packages (from weasel<0.5.0,>=0.1.0->spacy) (0.18.1)\n",
      "Requirement already satisfied: MarkupSafe>=2.0 in c:\\users\\rimjhim\\anaconda3\\lib\\site-packages (from jinja2->spacy) (2.1.1)\n",
      "Requirement already satisfied: marisa-trie>=0.7.7 in c:\\users\\rimjhim\\anaconda3\\lib\\site-packages (from language-data>=1.2->langcodes<4.0.0,>=3.2.0->spacy) (1.2.0)\n",
      "Requirement already satisfied: markdown-it-py>=2.2.0 in c:\\users\\rimjhim\\anaconda3\\lib\\site-packages (from rich>=10.11.0->typer<1.0.0,>=0.3.0->spacy) (3.0.0)\n",
      "Requirement already satisfied: pygments<3.0.0,>=2.13.0 in c:\\users\\rimjhim\\anaconda3\\lib\\site-packages (from rich>=10.11.0->typer<1.0.0,>=0.3.0->spacy) (2.18.0)\n",
      "Requirement already satisfied: mdurl~=0.1 in c:\\users\\rimjhim\\anaconda3\\lib\\site-packages (from markdown-it-py>=2.2.0->rich>=10.11.0->typer<1.0.0,>=0.3.0->spacy) (0.1.2)\n"
     ]
    }
   ],
   "source": [
    "nltk.download('averaged_perceptron_tagger')\n",
    "!pip install spacy\n"
   ]
  },
  {
   "cell_type": "code",
   "execution_count": 34,
   "id": "205ab306",
   "metadata": {},
   "outputs": [
    {
     "name": "stdout",
     "output_type": "stream",
     "text": [
      "[('Computational', 'JJ'), ('linguistics', 'NNS'), ('is', 'VBZ'), ('an', 'DT'), ('interdisciplinary', 'JJ'), ('field', 'NN'), ('concerned', 'VBN'), ('with', 'IN'), ('the', 'DT'), ('computational', 'JJ'), ('modelling', 'NN'), ('of', 'IN'), ('natural', 'JJ'), ('language', 'NN'), (',', ','), ('as', 'RB'), ('well', 'RB'), ('as', 'IN'), ('the', 'DT'), ('study', 'NN'), ('of', 'IN'), ('appropriate', 'JJ'), ('computational', 'JJ'), ('approaches', 'NNS'), ('to', 'TO'), ('linguistic', 'JJ'), ('questions', 'NNS'), ('.', '.'), ('In', 'IN'), ('general', 'JJ'), (',', ','), ('computational', 'JJ'), ('linguistics', 'NNS'), ('draws', 'VBP'), ('upon', 'IN'), ('linguistics', 'NNS'), (',', ','), ('computer', 'NN'), ('science', 'NN'), (',', ','), ('artificial', 'JJ'), ('intelligence', 'NN'), (',', ','), ('mathematics', 'NNS'), (',', ','), ('logic', 'NN'), (',', ','), ('philosophy', 'NN'), (',', ','), ('cognitive', 'JJ'), ('science', 'NN'), (',', ','), ('cognitive', 'JJ'), ('psychology', 'NN'), (',', ','), ('psycholinguistics', 'NNS'), (',', ','), ('anthropology', 'NN'), ('and', 'CC'), ('neuroscience', 'NN'), (',', ','), ('among', 'IN'), ('others', 'NNS'), ('.', '.')]\n"
     ]
    }
   ],
   "source": [
    "final=nltk.pos_tag(result)\n",
    "print(final)"
   ]
  },
  {
   "cell_type": "code",
   "execution_count": 35,
   "id": "5726e825",
   "metadata": {},
   "outputs": [
    {
     "name": "stderr",
     "output_type": "stream",
     "text": [
      "[nltk_data] Downloading package tagsets to\n",
      "[nltk_data]     C:\\Users\\RIMJHIM\\AppData\\Roaming\\nltk_data...\n",
      "[nltk_data]   Package tagsets is already up-to-date!\n"
     ]
    },
    {
     "data": {
      "text/plain": [
       "True"
      ]
     },
     "execution_count": 35,
     "metadata": {},
     "output_type": "execute_result"
    }
   ],
   "source": [
    "nltk.download('tagsets')"
   ]
  },
  {
   "cell_type": "code",
   "execution_count": 36,
   "id": "a42e4398",
   "metadata": {},
   "outputs": [
    {
     "name": "stdout",
     "output_type": "stream",
     "text": [
      "VBD: verb, past tense\n",
      "    dipped pleaded swiped regummed soaked tidied convened halted registered\n",
      "    cushioned exacted snubbed strode aimed adopted belied figgered\n",
      "    speculated wore appreciated contemplated ...\n"
     ]
    }
   ],
   "source": [
    "nltk.help.upenn_tagset('VBD')"
   ]
  },
  {
   "cell_type": "code",
   "execution_count": 37,
   "id": "8fb6ddb7",
   "metadata": {},
   "outputs": [
    {
     "name": "stdout",
     "output_type": "stream",
     "text": [
      "NN: noun, common, singular or mass\n",
      "    common-carrier cabbage knuckle-duster Casino afghan shed thermostat\n",
      "    investment slide humour falloff slick wind hyena override subhumanity\n",
      "    machinist ...\n"
     ]
    }
   ],
   "source": [
    "nltk.help.upenn_tagset('NN')"
   ]
  }
 ],
 "metadata": {
  "kernelspec": {
   "display_name": "Python 3 (ipykernel)",
   "language": "python",
   "name": "python3"
  },
  "language_info": {
   "codemirror_mode": {
    "name": "ipython",
    "version": 3
   },
   "file_extension": ".py",
   "mimetype": "text/x-python",
   "name": "python",
   "nbconvert_exporter": "python",
   "pygments_lexer": "ipython3",
   "version": "3.10.9"
  }
 },
 "nbformat": 4,
 "nbformat_minor": 5
}
